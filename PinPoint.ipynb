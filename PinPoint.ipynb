{
 "cells": [
  {
   "cell_type": "code",
   "execution_count": 56,
   "id": "8daae29e",
   "metadata": {},
   "outputs": [],
   "source": [
    "class Point:\n",
    "    \n",
    "    def __init__(self, x, y):\n",
    "        self.x= x\n",
    "        self.y= y\n",
    "    def fall_in_rectangel(self, rectangele):\n",
    "        if rectangele.lowleft.x< self.x <rectangele.upright.x \\\n",
    "            and rectangele.lowleft.y < self.y < rectangele.upright.y:\n",
    "            return True\n",
    "        else:\n",
    "            return False\n",
    "    def distance(self, point):\n",
    "        return((self.x-point.x)**2 + (self.y-point.y)**2)**.5"
   ]
  },
  {
   "cell_type": "code",
   "execution_count": null,
   "id": "a57d7e45",
   "metadata": {},
   "outputs": [],
   "source": [
    "class Rectangele:\n",
    "    \n",
    "    def __init__(self, lowleft, upright):\n",
    "        self.lowleft =lowleft\n",
    "        self.upright =upright\n",
    "        "
   ]
  },
  {
   "cell_type": "code",
   "execution_count": 7,
   "id": "d5cc7b38",
   "metadata": {},
   "outputs": [
    {
     "data": {
      "text/plain": [
       "True"
      ]
     },
     "execution_count": 7,
     "metadata": {},
     "output_type": "execute_result"
    }
   ],
   "source": [
    "point1 = Point(6,7)\n",
    "point1.fall_in_rectangel((5,6),(7,9))"
   ]
  },
  {
   "cell_type": "code",
   "execution_count": 16,
   "id": "fb0fe594",
   "metadata": {},
   "outputs": [
    {
     "data": {
      "text/plain": [
       "2.8284271247461903"
      ]
     },
     "execution_count": 16,
     "metadata": {},
     "output_type": "execute_result"
    }
   ],
   "source": [
    "Point(1, 1).distance(3, 3)"
   ]
  },
  {
   "cell_type": "code",
   "execution_count": 29,
   "id": "8132ff8d",
   "metadata": {},
   "outputs": [],
   "source": [
    "point1=Point(1,1)"
   ]
  },
  {
   "cell_type": "code",
   "execution_count": 30,
   "id": "8f21a42b",
   "metadata": {},
   "outputs": [],
   "source": [
    "point2=Point(2,2)"
   ]
  },
  {
   "cell_type": "code",
   "execution_count": 31,
   "id": "02a15dc5",
   "metadata": {},
   "outputs": [
    {
     "data": {
      "text/plain": [
       "1.4142135623730951"
      ]
     },
     "execution_count": 31,
     "metadata": {},
     "output_type": "execute_result"
    }
   ],
   "source": [
    "point1.distance(point2)"
   ]
  },
  {
   "cell_type": "code",
   "execution_count": 57,
   "id": "0ef792bc",
   "metadata": {
    "collapsed": true
   },
   "outputs": [
    {
     "ename": "TypeError",
     "evalue": "Point.fall_in_rectangel() takes 2 positional arguments but 3 were given",
     "output_type": "error",
     "traceback": [
      "\u001b[1;31m---------------------------------------------------------------------------\u001b[0m",
      "\u001b[1;31mTypeError\u001b[0m                                 Traceback (most recent call last)",
      "Cell \u001b[1;32mIn [57], line 1\u001b[0m\n\u001b[1;32m----> 1\u001b[0m \u001b[43mPoint\u001b[49m\u001b[43m(\u001b[49m\u001b[38;5;241;43m3\u001b[39;49m\u001b[43m,\u001b[49m\u001b[43m \u001b[49m\u001b[38;5;241;43m4\u001b[39;49m\u001b[43m)\u001b[49m\u001b[38;5;241;43m.\u001b[39;49m\u001b[43mfall_in_rectangel\u001b[49m\u001b[43m(\u001b[49m\u001b[43m(\u001b[49m\u001b[38;5;241;43m1\u001b[39;49m\u001b[43m,\u001b[49m\u001b[38;5;241;43m1\u001b[39;49m\u001b[43m)\u001b[49m\u001b[43m,\u001b[49m\u001b[43m(\u001b[49m\u001b[38;5;241;43m6\u001b[39;49m\u001b[43m,\u001b[49m\u001b[38;5;241;43m6\u001b[39;49m\u001b[43m)\u001b[49m\u001b[43m)\u001b[49m\n",
      "\u001b[1;31mTypeError\u001b[0m: Point.fall_in_rectangel() takes 2 positional arguments but 3 were given"
     ]
    }
   ],
   "source": [
    "Point(3, 4).fall_in_rectangel((1,1),(6,6))"
   ]
  },
  {
   "cell_type": "code",
   "execution_count": 32,
   "id": "ddbf6cb2",
   "metadata": {
    "collapsed": true
   },
   "outputs": [
    {
     "ename": "TypeError",
     "evalue": "unsupported operand type(s) for -: 'Point' and 'Point'",
     "output_type": "error",
     "traceback": [
      "\u001b[1;31m---------------------------------------------------------------------------\u001b[0m",
      "\u001b[1;31mTypeError\u001b[0m                                 Traceback (most recent call last)",
      "Cell \u001b[1;32mIn [32], line 1\u001b[0m\n\u001b[1;32m----> 1\u001b[0m \u001b[43mpoint1\u001b[49m\u001b[43m \u001b[49m\u001b[38;5;241;43m-\u001b[39;49m\u001b[43m \u001b[49m\u001b[43mpoint2\u001b[49m\n",
      "\u001b[1;31mTypeError\u001b[0m: unsupported operand type(s) for -: 'Point' and 'Point'"
     ]
    }
   ],
   "source": [
    "point1 - point2"
   ]
  },
  {
   "cell_type": "code",
   "execution_count": 59,
   "id": "1ae69d7b",
   "metadata": {},
   "outputs": [],
   "source": [
    "pointx=Point(5,6)"
   ]
  },
  {
   "cell_type": "code",
   "execution_count": 60,
   "id": "1e7fef26",
   "metadata": {},
   "outputs": [],
   "source": [
    "rectangelex = Rectangele(Point(5, 6), Point(7,9))"
   ]
  },
  {
   "cell_type": "code",
   "execution_count": 61,
   "id": "d7b9a597",
   "metadata": {},
   "outputs": [
    {
     "data": {
      "text/plain": [
       "False"
      ]
     },
     "execution_count": 61,
     "metadata": {},
     "output_type": "execute_result"
    }
   ],
   "source": [
    "pointx.fall_in_rectangel(rectangelex)"
   ]
  },
  {
   "cell_type": "code",
   "execution_count": 61,
   "id": "c1b48962",
   "metadata": {},
   "outputs": [],
   "source": [
    "class Point:\n",
    "    \n",
    "    def __init__(self, x, y):\n",
    "        self.x = x\n",
    "        self.y = y\n",
    "    def fall_in_rectangle(self, rectangle):\n",
    "        if rectangle.lowleft.x < self.x <rectangle.upright.x \\\n",
    "            and rectangle.lowleft.y < self.y < rectangle.upright.y:\n",
    "            return True\n",
    "        else:\n",
    "            return False\n",
    "\n",
    "class Rectangle:\n",
    "    \n",
    "    def __init__(self, lowleft, upright):\n",
    "        self.lowleft = lowleft\n",
    "        self.upright = upright\n",
    "\n",
    "    def area_rectangle(self):\n",
    "        return (self.upright.x - self.lowleft.x) *\\\n",
    "               (self.upright.y - self.lowleft.y )\n",
    "        "
   ]
  },
  {
   "cell_type": "code",
   "execution_count": 62,
   "id": "747c8d8f",
   "metadata": {},
   "outputs": [],
   "source": [
    "from random import randint\n",
    "\n",
    "rectangle = Rectangle(\n",
    "    Point(randint(0, 9), randint(0, 9)),\n",
    "    Point(randint(10,19), randint(10, 19))\n",
    "    )"
   ]
  },
  {
   "cell_type": "code",
   "execution_count": 64,
   "id": "987fa0f1",
   "metadata": {
    "scrolled": true
   },
   "outputs": [
    {
     "name": "stdout",
     "output_type": "stream",
     "text": [
      "Rectangele Coordinates: 5 , 4 and 13 , 13\n",
      "Guess x:6\n",
      "Guess y:6\n",
      "Guess area:6\n",
      "Your point was inside rectangle: True\n",
      "user_area 66.0\n"
     ]
    }
   ],
   "source": [
    "print(\"Rectangele Coordinates:\",\n",
    "      rectangle.lowleft.x, \",\",\n",
    "      rectangle.lowleft.y, \"and\",\n",
    "      rectangle.upright.x, \",\",\n",
    "      rectangle.upright.y)\n",
    "user_point = Point(float(input(\"Guess x:\")),\n",
    "                  float(input(\"Guess y:\")))\n",
    "user_area= (float(input(\"Guess area:\")))\n",
    "print(\"Your point was inside rectangle:\", user_point.fall_in_rectangle(rectangle))\n",
    "print('user_area',rectangle.area_rectangle() - user_area)\n"
   ]
  },
  {
   "cell_type": "code",
   "execution_count": 47,
   "id": "d8067615",
   "metadata": {},
   "outputs": [
    {
     "data": {
      "text/plain": [
       "<function __main__.Rectangle.area_rectangle(self, rectangle)>"
      ]
     },
     "execution_count": 47,
     "metadata": {},
     "output_type": "execute_result"
    }
   ],
   "source": [
    "Rectangle.area_rectangle"
   ]
  },
  {
   "cell_type": "code",
   "execution_count": 52,
   "id": "4da25fda",
   "metadata": {},
   "outputs": [
    {
     "ename": "TypeError",
     "evalue": "Rectangle.area_rectangle() takes 1 positional argument but 2 were given",
     "output_type": "error",
     "traceback": [
      "\u001b[1;31m---------------------------------------------------------------------------\u001b[0m",
      "\u001b[1;31mTypeError\u001b[0m                                 Traceback (most recent call last)",
      "Cell \u001b[1;32mIn [52], line 2\u001b[0m\n\u001b[0;32m      1\u001b[0m rect\u001b[38;5;241m=\u001b[39mRectangle(\u001b[38;5;241m6\u001b[39m,\u001b[38;5;241m7\u001b[39m)\n\u001b[1;32m----> 2\u001b[0m \u001b[43mrect\u001b[49m\u001b[38;5;241;43m.\u001b[39;49m\u001b[43marea_rectangle\u001b[49m\u001b[43m(\u001b[49m\u001b[43mrect\u001b[49m\u001b[43m)\u001b[49m\n",
      "\u001b[1;31mTypeError\u001b[0m: Rectangle.area_rectangle() takes 1 positional argument but 2 were given"
     ]
    }
   ],
   "source": [
    "rect=Rectangle(6,7)\n",
    "rect.area_rectangle(rect)"
   ]
  }
 ],
 "metadata": {
  "kernelspec": {
   "display_name": "Python 3 (ipykernel)",
   "language": "python",
   "name": "python3"
  },
  "language_info": {
   "codemirror_mode": {
    "name": "ipython",
    "version": 3
   },
   "file_extension": ".py",
   "mimetype": "text/x-python",
   "name": "python",
   "nbconvert_exporter": "python",
   "pygments_lexer": "ipython3",
   "version": "3.10.8"
  }
 },
 "nbformat": 4,
 "nbformat_minor": 5
}
